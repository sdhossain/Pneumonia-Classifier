{
  "nbformat": 4,
  "nbformat_minor": 0,
  "metadata": {
    "colab": {
      "name": "Pneumonia",
      "provenance": []
    },
    "kernelspec": {
      "name": "python3",
      "display_name": "Python 3"
    },
    "accelerator": "GPU"
  },
  "cells": [
    {
      "cell_type": "code",
      "metadata": {
        "id": "fzBnrouAXimf",
        "colab_type": "code",
        "colab": {}
      },
      "source": [
        "import os\n",
        "import numpy as np\n",
        "import pandas as pd\n",
        "import matplotlib.pyplot as plt\n",
        "from matplotlib.pyplot import imread\n",
        "from sklearn.model_selection import train_test_split\n",
        "import tensorflow as tf\n",
        "import tensorflow_hub as hub\n"
      ],
      "execution_count": 1,
      "outputs": []
    },
    {
      "cell_type": "code",
      "metadata": {
        "id": "jfUtch3HXlJr",
        "colab_type": "code",
        "colab": {
          "base_uri": "https://localhost:8080/",
          "height": 34
        },
        "outputId": "3975cd56-fa63-4de0-d32f-0d1091518902"
      },
      "source": [
        "normal_list = os.listdir(\"/content/drive/My Drive/ChestXRays/NORMAL\")\n",
        "diseased_list = os.listdir(\"/content/drive/My Drive/ChestXRays/PNEUMONIA\")\n",
        "nzeros = [0]*len(normal_list)\n",
        "dones = [1]*len(diseased_list)\n",
        "\n",
        "xray_images = normal_list + diseased_list\n",
        "xrays = np.array(xray_images)\n",
        "classification_values = nzeros+dones\n",
        "target = np.array(classification_values)\n",
        "len(xrays), len(target)\n"
      ],
      "execution_count": 2,
      "outputs": [
        {
          "output_type": "execute_result",
          "data": {
            "text/plain": [
              "(5216, 5216)"
            ]
          },
          "metadata": {
            "tags": []
          },
          "execution_count": 2
        }
      ]
    },
    {
      "cell_type": "code",
      "metadata": {
        "id": "9L0ZD_bWYQyc",
        "colab_type": "code",
        "colab": {
          "base_uri": "https://localhost:8080/",
          "height": 195
        },
        "outputId": "19fadfa5-3b36-4f9a-84a4-9c1add038224"
      },
      "source": [
        "tablet = pd.DataFrame({\"Xrays\":xrays, \"target\":target})\n",
        "tablet.head()"
      ],
      "execution_count": 3,
      "outputs": [
        {
          "output_type": "execute_result",
          "data": {
            "text/html": [
              "<div>\n",
              "<style scoped>\n",
              "    .dataframe tbody tr th:only-of-type {\n",
              "        vertical-align: middle;\n",
              "    }\n",
              "\n",
              "    .dataframe tbody tr th {\n",
              "        vertical-align: top;\n",
              "    }\n",
              "\n",
              "    .dataframe thead th {\n",
              "        text-align: right;\n",
              "    }\n",
              "</style>\n",
              "<table border=\"1\" class=\"dataframe\">\n",
              "  <thead>\n",
              "    <tr style=\"text-align: right;\">\n",
              "      <th></th>\n",
              "      <th>Xrays</th>\n",
              "      <th>target</th>\n",
              "    </tr>\n",
              "  </thead>\n",
              "  <tbody>\n",
              "    <tr>\n",
              "      <th>0</th>\n",
              "      <td>NORMAL2-IM-0815-0001.jpeg</td>\n",
              "      <td>0</td>\n",
              "    </tr>\n",
              "    <tr>\n",
              "      <th>1</th>\n",
              "      <td>NORMAL2-IM-0819-0001.jpeg</td>\n",
              "      <td>0</td>\n",
              "    </tr>\n",
              "    <tr>\n",
              "      <th>2</th>\n",
              "      <td>NORMAL2-IM-0824-0001.jpeg</td>\n",
              "      <td>0</td>\n",
              "    </tr>\n",
              "    <tr>\n",
              "      <th>3</th>\n",
              "      <td>NORMAL2-IM-0832-0001.jpeg</td>\n",
              "      <td>0</td>\n",
              "    </tr>\n",
              "    <tr>\n",
              "      <th>4</th>\n",
              "      <td>NORMAL2-IM-0822-0001.jpeg</td>\n",
              "      <td>0</td>\n",
              "    </tr>\n",
              "  </tbody>\n",
              "</table>\n",
              "</div>"
            ],
            "text/plain": [
              "                       Xrays  target\n",
              "0  NORMAL2-IM-0815-0001.jpeg       0\n",
              "1  NORMAL2-IM-0819-0001.jpeg       0\n",
              "2  NORMAL2-IM-0824-0001.jpeg       0\n",
              "3  NORMAL2-IM-0832-0001.jpeg       0\n",
              "4  NORMAL2-IM-0822-0001.jpeg       0"
            ]
          },
          "metadata": {
            "tags": []
          },
          "execution_count": 3
        }
      ]
    },
    {
      "cell_type": "code",
      "metadata": {
        "id": "6s-pJcYvcNkG",
        "colab_type": "code",
        "colab": {
          "base_uri": "https://localhost:8080/",
          "height": 195
        },
        "outputId": "78d371f0-80b9-4a40-f155-840e154d808c"
      },
      "source": [
        "table = tablet.sample(frac=1).reset_index(drop=True)\n",
        "table.head()"
      ],
      "execution_count": 4,
      "outputs": [
        {
          "output_type": "execute_result",
          "data": {
            "text/html": [
              "<div>\n",
              "<style scoped>\n",
              "    .dataframe tbody tr th:only-of-type {\n",
              "        vertical-align: middle;\n",
              "    }\n",
              "\n",
              "    .dataframe tbody tr th {\n",
              "        vertical-align: top;\n",
              "    }\n",
              "\n",
              "    .dataframe thead th {\n",
              "        text-align: right;\n",
              "    }\n",
              "</style>\n",
              "<table border=\"1\" class=\"dataframe\">\n",
              "  <thead>\n",
              "    <tr style=\"text-align: right;\">\n",
              "      <th></th>\n",
              "      <th>Xrays</th>\n",
              "      <th>target</th>\n",
              "    </tr>\n",
              "  </thead>\n",
              "  <tbody>\n",
              "    <tr>\n",
              "      <th>0</th>\n",
              "      <td>person939_bacteria_2864.jpeg</td>\n",
              "      <td>1</td>\n",
              "    </tr>\n",
              "    <tr>\n",
              "      <th>1</th>\n",
              "      <td>person155_virus_307.jpeg</td>\n",
              "      <td>1</td>\n",
              "    </tr>\n",
              "    <tr>\n",
              "      <th>2</th>\n",
              "      <td>IM-0559-0001.jpeg</td>\n",
              "      <td>0</td>\n",
              "    </tr>\n",
              "    <tr>\n",
              "      <th>3</th>\n",
              "      <td>person1493_bacteria_3899.jpeg</td>\n",
              "      <td>1</td>\n",
              "    </tr>\n",
              "    <tr>\n",
              "      <th>4</th>\n",
              "      <td>IM-0551-0001-0001.jpeg</td>\n",
              "      <td>0</td>\n",
              "    </tr>\n",
              "  </tbody>\n",
              "</table>\n",
              "</div>"
            ],
            "text/plain": [
              "                           Xrays  target\n",
              "0   person939_bacteria_2864.jpeg       1\n",
              "1       person155_virus_307.jpeg       1\n",
              "2              IM-0559-0001.jpeg       0\n",
              "3  person1493_bacteria_3899.jpeg       1\n",
              "4         IM-0551-0001-0001.jpeg       0"
            ]
          },
          "metadata": {
            "tags": []
          },
          "execution_count": 4
        }
      ]
    },
    {
      "cell_type": "code",
      "metadata": {
        "id": "KtftwH9NemML",
        "colab_type": "code",
        "colab": {
          "base_uri": "https://localhost:8080/",
          "height": 195
        },
        "outputId": "159e3843-becc-4352-e126-ec889d66dbc6"
      },
      "source": [
        "table = pd.read_csv(\"/content/drive/My Drive/ChestXRays/table.csv\")\n",
        "table.head()"
      ],
      "execution_count": 5,
      "outputs": [
        {
          "output_type": "execute_result",
          "data": {
            "text/html": [
              "<div>\n",
              "<style scoped>\n",
              "    .dataframe tbody tr th:only-of-type {\n",
              "        vertical-align: middle;\n",
              "    }\n",
              "\n",
              "    .dataframe tbody tr th {\n",
              "        vertical-align: top;\n",
              "    }\n",
              "\n",
              "    .dataframe thead th {\n",
              "        text-align: right;\n",
              "    }\n",
              "</style>\n",
              "<table border=\"1\" class=\"dataframe\">\n",
              "  <thead>\n",
              "    <tr style=\"text-align: right;\">\n",
              "      <th></th>\n",
              "      <th>Xrays</th>\n",
              "      <th>target</th>\n",
              "    </tr>\n",
              "  </thead>\n",
              "  <tbody>\n",
              "    <tr>\n",
              "      <th>0</th>\n",
              "      <td>person1224_virus_2074.jpeg</td>\n",
              "      <td>1</td>\n",
              "    </tr>\n",
              "    <tr>\n",
              "      <th>1</th>\n",
              "      <td>person354_bacteria_1634.jpeg</td>\n",
              "      <td>1</td>\n",
              "    </tr>\n",
              "    <tr>\n",
              "      <th>2</th>\n",
              "      <td>person472_bacteria_2008.jpeg</td>\n",
              "      <td>1</td>\n",
              "    </tr>\n",
              "    <tr>\n",
              "      <th>3</th>\n",
              "      <td>IM-0691-0001.jpeg</td>\n",
              "      <td>0</td>\n",
              "    </tr>\n",
              "    <tr>\n",
              "      <th>4</th>\n",
              "      <td>NORMAL2-IM-0589-0001.jpeg</td>\n",
              "      <td>0</td>\n",
              "    </tr>\n",
              "  </tbody>\n",
              "</table>\n",
              "</div>"
            ],
            "text/plain": [
              "                          Xrays  target\n",
              "0    person1224_virus_2074.jpeg       1\n",
              "1  person354_bacteria_1634.jpeg       1\n",
              "2  person472_bacteria_2008.jpeg       1\n",
              "3             IM-0691-0001.jpeg       0\n",
              "4     NORMAL2-IM-0589-0001.jpeg       0"
            ]
          },
          "metadata": {
            "tags": []
          },
          "execution_count": 5
        }
      ]
    },
    {
      "cell_type": "code",
      "metadata": {
        "id": "cDpUEapxhWFU",
        "colab_type": "code",
        "colab": {
          "base_uri": "https://localhost:8080/",
          "height": 34
        },
        "outputId": "e96c89e1-5343-446f-a56d-ab2f28a3e172"
      },
      "source": [
        "filenames = [\"/content/drive/My Drive/ChestXRays/XRays/\" + fname for fname in table[\"Xrays\"]]\n",
        "len(filenames)\n",
        "labels = table[\"target\"].to_numpy()\n",
        "binary_labels = [label == 1 for label in labels]\n",
        "labels[0], binary_labels[0]"
      ],
      "execution_count": 6,
      "outputs": [
        {
          "output_type": "execute_result",
          "data": {
            "text/plain": [
              "(1, True)"
            ]
          },
          "metadata": {
            "tags": []
          },
          "execution_count": 6
        }
      ]
    },
    {
      "cell_type": "code",
      "metadata": {
        "id": "5InlhjjTHl0k",
        "colab_type": "code",
        "colab": {
          "base_uri": "https://localhost:8080/",
          "height": 34
        },
        "outputId": "09111a5e-2689-49df-b7a8-e2e02630434e"
      },
      "source": [
        "np.unique(labels)"
      ],
      "execution_count": 7,
      "outputs": [
        {
          "output_type": "execute_result",
          "data": {
            "text/plain": [
              "array([0, 1])"
            ]
          },
          "metadata": {
            "tags": []
          },
          "execution_count": 7
        }
      ]
    },
    {
      "cell_type": "code",
      "metadata": {
        "id": "WZdCYltXsYse",
        "colab_type": "code",
        "colab": {}
      },
      "source": [
        "X= filenames\n",
        "y= binary_labels"
      ],
      "execution_count": 8,
      "outputs": []
    },
    {
      "cell_type": "code",
      "metadata": {
        "id": "yEGZnzHasBmF",
        "colab_type": "code",
        "colab": {}
      },
      "source": [
        "NUM_IMAGES = 1000 #@param {type:\"slider\", min:1000, max:5000, step:500}"
      ],
      "execution_count": 39,
      "outputs": []
    },
    {
      "cell_type": "code",
      "metadata": {
        "id": "FjbMi-2htRhx",
        "colab_type": "code",
        "colab": {}
      },
      "source": [
        "X_train, X_test, y_train, y_test = train_test_split(X[:NUM_IMAGES],y[:NUM_IMAGES], test_size = 0.2, random_state=42)\n"
      ],
      "execution_count": 40,
      "outputs": []
    },
    {
      "cell_type": "code",
      "metadata": {
        "id": "sowu7SABtycJ",
        "colab_type": "code",
        "colab": {}
      },
      "source": [
        "IMG_SIZE = 224\n",
        "def tensorify(image_path):\n",
        "  \"\"\"\n",
        "  turn an image into a tensor\n",
        "  \"\"\"\n",
        "  image = tf.io.read_file(image_path)\n",
        "  image = tf.image.decode_jpeg(image, channels=3)\n",
        "  image = tf.image.convert_image_dtype(image, tf.float32)\n",
        "  image = tf.image.resize(image, size=[IMG_SIZE, IMG_SIZE])\n",
        "  return image\n",
        "\n",
        "\n",
        "def get_label(image_path, label):\n",
        "  \"\"\"\n",
        "  gives label\n",
        "  \"\"\"\n",
        "  image = tensorify(image_path)\n",
        "  return image, label\n",
        "\n"
      ],
      "execution_count": 41,
      "outputs": []
    },
    {
      "cell_type": "code",
      "metadata": {
        "id": "77DJVsNC93MR",
        "colab_type": "code",
        "colab": {}
      },
      "source": [
        "\n",
        "BATCH_SIZE = 32\n",
        "\n",
        "# Create a function to turn data into batches\n",
        "def create_batches(X, y=None, batch_size=BATCH_SIZE,  test_data=False):\n",
        "  \"\"\"\n",
        "  Creates batches of data out of image (X) and label (y) pairs.\n",
        "  Shuffles the data if it's training data but doesn't shuffle if it's validation data.\n",
        "  Also accepts test data as input (no labels).\n",
        "  \"\"\"\n",
        "  if test_data:\n",
        "    print(\"Creating test data batches...\")\n",
        "    data = tf.data.Dataset.from_tensor_slices((tf.constant(X), # filepaths\n",
        "                                               tf.constant(y))) # labels\n",
        "    data_batch = data.map(get_label).batch(BATCH_SIZE)\n",
        "    return data_batch\n",
        "  else:\n",
        "    print(\"Creating training data batches...\")\n",
        "    data = tf.data.Dataset.from_tensor_slices((tf.constant(X),\n",
        "                                               tf.constant(y)))\n",
        "    data = data.shuffle(buffer_size=len(X))\n",
        "    data = data.map(get_label)\n",
        "    data_batch = data.batch(BATCH_SIZE)\n",
        "  return data_batch\n",
        "  "
      ],
      "execution_count": 42,
      "outputs": []
    },
    {
      "cell_type": "code",
      "metadata": {
        "id": "ORW6KJVG_A5b",
        "colab_type": "code",
        "colab": {
          "base_uri": "https://localhost:8080/",
          "height": 52
        },
        "outputId": "b3c2df15-cb93-4c82-8633-ca3bba50d084"
      },
      "source": [
        "train_data = create_batches(X_train, y_train)\n",
        "test_data = create_batches(X_test, y_test)"
      ],
      "execution_count": 43,
      "outputs": [
        {
          "output_type": "stream",
          "text": [
            "Creating training data batches...\n",
            "Creating training data batches...\n"
          ],
          "name": "stdout"
        }
      ]
    },
    {
      "cell_type": "code",
      "metadata": {
        "id": "ZLawYAo3_WGL",
        "colab_type": "code",
        "colab": {
          "base_uri": "https://localhost:8080/",
          "height": 52
        },
        "outputId": "64124ad9-b2c9-4c38-dbe9-205e897da9c0"
      },
      "source": [
        "train_data.element_spec"
      ],
      "execution_count": 44,
      "outputs": [
        {
          "output_type": "execute_result",
          "data": {
            "text/plain": [
              "(TensorSpec(shape=(None, 224, 224, 3), dtype=tf.float32, name=None),\n",
              " TensorSpec(shape=(None,), dtype=tf.bool, name=None))"
            ]
          },
          "metadata": {
            "tags": []
          },
          "execution_count": 44
        }
      ]
    },
    {
      "cell_type": "code",
      "metadata": {
        "id": "Up2AVmJ__cAZ",
        "colab_type": "code",
        "colab": {}
      },
      "source": [
        "INPUT_SHAPE = [None, 224, 224, 3]\n",
        "OUTPUT_SHAPE = 1\n",
        "MODEL_URL = \"https://tfhub.dev/google/imagenet/mobilenet_v2_130_224/classification/4\""
      ],
      "execution_count": 45,
      "outputs": []
    },
    {
      "cell_type": "code",
      "metadata": {
        "id": "rHdUiaZtAi3B",
        "colab_type": "code",
        "colab": {}
      },
      "source": [
        "def create_model(input_shape=INPUT_SHAPE, output_shape=OUTPUT_SHAPE, model_url=MODEL_URL):\n",
        "  print(\"Building model with:\", MODEL_URL)\n",
        "\n",
        "  model = tf.keras.Sequential([\n",
        "    hub.KerasLayer(MODEL_URL), # Layer 1 (input layer)\n",
        "    tf.keras.layers.Dense(units=OUTPUT_SHAPE,\n",
        "                          activation=\"sigmoid\") # Layer 2 (output layer)\n",
        "  ])\n",
        "\n",
        "  # Compile the model\n",
        "  model.compile(\n",
        "      loss=tf.keras.losses.BinaryCrossentropy(),\n",
        "      optimizer=tf.keras.optimizers.Adam(),\n",
        "      metrics=[tf.keras.metrics.AUC(\n",
        "        name='auc_precision_recall', curve='PR', num_thresholds=10000)]\n",
        "  )\n",
        "\n",
        "  # Build the model\n",
        "  model.build(INPUT_SHAPE)\n",
        "\n",
        "  return model"
      ],
      "execution_count": 46,
      "outputs": []
    },
    {
      "cell_type": "code",
      "metadata": {
        "id": "-ArrILbuG-LZ",
        "colab_type": "code",
        "colab": {
          "base_uri": "https://localhost:8080/",
          "height": 246
        },
        "outputId": "da2ebc05-45d3-4eeb-faa4-93d56762bdf1"
      },
      "source": [
        "model = create_model()\n",
        "model.summary()"
      ],
      "execution_count": 47,
      "outputs": [
        {
          "output_type": "stream",
          "text": [
            "Building model with: https://tfhub.dev/google/imagenet/mobilenet_v2_130_224/classification/4\n",
            "Model: \"sequential_9\"\n",
            "_________________________________________________________________\n",
            "Layer (type)                 Output Shape              Param #   \n",
            "=================================================================\n",
            "keras_layer_9 (KerasLayer)   multiple                  5432713   \n",
            "_________________________________________________________________\n",
            "dense_9 (Dense)              multiple                  1002      \n",
            "=================================================================\n",
            "Total params: 5,433,715\n",
            "Trainable params: 1,002\n",
            "Non-trainable params: 5,432,713\n",
            "_________________________________________________________________\n"
          ],
          "name": "stdout"
        }
      ]
    },
    {
      "cell_type": "code",
      "metadata": {
        "id": "cLT2DzG0aK2w",
        "colab_type": "code",
        "colab": {}
      },
      "source": [
        "NUM_EPOCHS = 100 #@param {type:\"slider\", min:10, max:100, step:10}"
      ],
      "execution_count": 48,
      "outputs": []
    },
    {
      "cell_type": "code",
      "metadata": {
        "id": "NYzs7i4UHG9r",
        "colab_type": "code",
        "colab": {
          "base_uri": "https://localhost:8080/",
          "height": 230
        },
        "outputId": "81484126-d93b-4874-ef90-deb6d5dbcb10"
      },
      "source": [
        "%load_ext tensorboard\n",
        "early_stopping = tf.keras.callbacks.EarlyStopping(monitor=\"auc_precision_recall\",\n",
        "                                                  patience=3)\n",
        "def train_model():\n",
        "  \"\"\"\n",
        "  Trains a given model and returns the trained version.\n",
        "  \"\"\"\n",
        "  model = create_model()\n",
        "  model.fit(x=train_data,\n",
        "            epochs=NUM_EPOCHS,\n",
        "            validation_data=test_data,\n",
        "            validation_freq=1,\n",
        "            callbacks=[early_stopping])\n",
        "  return model\n",
        "\n",
        "model = train_model()"
      ],
      "execution_count": 49,
      "outputs": [
        {
          "output_type": "stream",
          "text": [
            "The tensorboard extension is already loaded. To reload it, use:\n",
            "  %reload_ext tensorboard\n",
            "Building model with: https://tfhub.dev/google/imagenet/mobilenet_v2_130_224/classification/4\n",
            "Epoch 1/100\n",
            "25/25 [==============================] - 17s 677ms/step - loss: 0.4384 - auc_precision_recall: 0.9398 - val_loss: 0.1959 - val_auc_precision_recall: 0.9922\n",
            "Epoch 2/100\n",
            "25/25 [==============================] - 16s 634ms/step - loss: 0.1798 - auc_precision_recall: 0.9920 - val_loss: 0.1536 - val_auc_precision_recall: 0.9953\n",
            "Epoch 3/100\n",
            "25/25 [==============================] - 16s 638ms/step - loss: 0.1467 - auc_precision_recall: 0.9947 - val_loss: 0.1429 - val_auc_precision_recall: 0.9953\n",
            "Epoch 4/100\n",
            "25/25 [==============================] - 16s 642ms/step - loss: 0.1230 - auc_precision_recall: 0.9965 - val_loss: 0.1475 - val_auc_precision_recall: 0.9957\n"
          ],
          "name": "stdout"
        }
      ]
    },
    {
      "cell_type": "code",
      "metadata": {
        "id": "6YLQJd-IaBki",
        "colab_type": "code",
        "colab": {
          "base_uri": "https://localhost:8080/",
          "height": 53
        },
        "outputId": "518daad4-d157-4e94-a815-e388c734f291"
      },
      "source": [
        "\n",
        "# Create a function to save a model\n",
        "def save_model(model, suffix=None):\n",
        "  \"\"\"\n",
        "  Saves a given model in a models directory and appends a suffix (string).\n",
        "  \"\"\"\n",
        "\n",
        "  model_path = \"/content/drive/My Drive/ChestXRays\" + \"/\" + suffix + \".h5\" \n",
        "  print(f\"Saving model to: {model_path}...\")\n",
        "  model.save(model_path)\n",
        "  return model_path\n",
        "\n",
        "save_model(model, suffix=\"PneumoniaChestXRayClassifier\")"
      ],
      "execution_count": 58,
      "outputs": [
        {
          "output_type": "stream",
          "text": [
            "Saving model to: /content/drive/My Drive/ChestXRays/PneumoniaChestXRayClassifier.h5...\n"
          ],
          "name": "stdout"
        },
        {
          "output_type": "execute_result",
          "data": {
            "application/vnd.google.colaboratory.intrinsic": {
              "type": "string"
            },
            "text/plain": [
              "'/content/drive/My Drive/ChestXRays/PneumoniaChestXRayClassifier.h5'"
            ]
          },
          "metadata": {
            "tags": []
          },
          "execution_count": 58
        }
      ]
    },
    {
      "cell_type": "code",
      "metadata": {
        "id": "p7Q_Rh69i-6V",
        "colab_type": "code",
        "colab": {}
      },
      "source": [
        ""
      ],
      "execution_count": 20,
      "outputs": []
    }
  ]
}